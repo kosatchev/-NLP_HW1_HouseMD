{
 "cells": [
  {
   "cell_type": "code",
   "execution_count": 7,
   "metadata": {},
   "outputs": [],
   "source": [
    "import os\n",
    "import torch\n",
    "import numpy as np\n",
    "import pandas as pd\n",
    "from tqdm import tqdm\n",
    "import matplotlib.pyplot as plt\n",
    "from sklearn.metrics.pairwise import cosine_similarity\n",
    "from transformers import BertTokenizer, BertModel"
   ]
  },
  {
   "cell_type": "code",
   "execution_count": null,
   "metadata": {},
   "outputs": [],
   "source": [
    "# Константы\n",
    "DATA_PATH = \"../data/processed/context_answer.csv\"\n",
    "OUTPUT_DIR = \"../models\"\n",
    "BATCH_SIZE = 16\n",
    "MODEL_NAME = 'bert-base-uncased'"
   ]
  },
  {
   "cell_type": "code",
   "execution_count": null,
   "metadata": {},
   "outputs": [],
   "source": [
    "# Загрузка предобученной модели и токенизатора\n",
    "tokenizer = BertTokenizer.from_pretrained(MODEL_NAME)\n",
    "model = BertModel.from_pretrained(MODEL_NAME)\n",
    "\n",
    "# Переносим модель на GPU, если доступно\n",
    "device = torch.device('cuda' if torch.cuda.is_available() else 'cpu')\n",
    "model.to(device)"
   ]
  },
  {
   "cell_type": "code",
   "execution_count": 1,
   "metadata": {},
   "outputs": [],
   "source": [
    "def get_bert_embedding(texts, model, tokenizer, batch_size=16):\n",
    "    \"\"\"Получает эмбеддинги для нескольких текстов с помощью BERT.\"\"\"\n",
    "    # Токенизация в батчах\n",
    "    inputs = tokenizer(\n",
    "        texts, \n",
    "        return_tensors='pt', \n",
    "        truncation=True, \n",
    "        padding=True, \n",
    "        max_length=512\n",
    "    )\n",
    "    inputs = {key: value.to(device) for key, value in inputs.items()}  # Переносим данные на GPU\n",
    "\n",
    "    with torch.no_grad():\n",
    "        outputs = model(**inputs)\n",
    "\n",
    "    # Используем среднее значение эмбеддингов токенов как вектор текста\n",
    "    embeddings = outputs.last_hidden_state.mean(dim=1).cpu().numpy()  # Переносим обратно на CPU\n",
    "    return embeddings\n",
    "\n",
    "\n",
    "def load_data(data_path):\n",
    "    \"\"\"Загружает обработанные данные.\"\"\"\n",
    "    return pd.read_csv(data_path)\n",
    "\n",
    "\n",
    "def save_embeddings(embeddings, output_path):\n",
    "    \"\"\"Сохраняет эмбеддинги в файл.\"\"\"\n",
    "    if embeddings.ndim > 2:\n",
    "        raise ValueError(f\"Ожидался двумерный массив, но получен массив формы {embeddings.shape}\")\n",
    "    np.save(output_path, embeddings)\n",
    "\n",
    "\n",
    "def load_embeddings(input_path):\n",
    "    \"\"\"Загружает эмбеддинги из файла.\"\"\"\n",
    "    return np.load(input_path)\n",
    "\n",
    "\n",
    "def train(data_path, output_dir, batch_size=16):\n",
    "    \"\"\"Обучает модель и сохраняет эмбеддинги.\"\"\"\n",
    "    # Загружаем данные\n",
    "    df = load_data(data_path)\n",
    "\n",
    "    # Получаем эмбеддинги для всех ответов с использованием tqdm и батчей\n",
    "    response_embeddings = []\n",
    "    for i in tqdm(range(0, len(df), batch_size), desc=\"Создание эмбеддингов\"):\n",
    "        batch_responses = df['response'][i:i + batch_size].tolist()\n",
    "        embeddings = get_bert_embedding(batch_responses, model, tokenizer, batch_size)\n",
    "        response_embeddings.append(embeddings)\n",
    "\n",
    "    response_embeddings = np.vstack(response_embeddings)  # Объединяем батчи в один массив\n",
    "\n",
    "    # Проверяем форму массива\n",
    "    print(f\"Форма массива эмбеддингов: {response_embeddings.shape}\")\n",
    "\n",
    "    # Сохраняем эмбеддинги\n",
    "    os.makedirs(output_dir, exist_ok=True)\n",
    "    save_embeddings(response_embeddings, os.path.join(output_dir, 'response_embeddings.npy'))\n",
    "    print(f\"Эмбеддинги сохранены в {output_dir}\")\n"
   ]
  },
  {
   "cell_type": "code",
   "execution_count": 2,
   "metadata": {},
   "outputs": [
    {
     "name": "stderr",
     "output_type": "stream",
     "text": [
      "Создание эмбеддингов: 100%|█████████████████████████████████████████████████████████| 1305/1305 [02:07<00:00, 10.20it/s]"
     ]
    },
    {
     "name": "stdout",
     "output_type": "stream",
     "text": [
      "Форма массива эмбеддингов: (20869, 768)\n",
      "Эмбеддинги сохранены в ../models\n"
     ]
    },
    {
     "name": "stderr",
     "output_type": "stream",
     "text": [
      "\n"
     ]
    }
   ],
   "source": [
    "# Обучаем модель и сохраняем эмбеддинги\n",
    "train(DATA_PATH, OUTPUT_DIR, BATCH_SIZE)"
   ]
  },
  {
   "cell_type": "code",
   "execution_count": 3,
   "metadata": {},
   "outputs": [],
   "source": [
    "def infer(context, response_embeddings, df, model, tokenizer):\n",
    "    \"\"\"Находит наиболее подходящий ответ для заданного контекста.\"\"\"\n",
    "    # Получаем эмбеддинг контекста\n",
    "    context_embedding = get_bert_embedding([context], model, tokenizer)\n",
    "    \n",
    "    # Вычисляем косинусное сходство между контекстом и всеми ответами\n",
    "    similarities = cosine_similarity(context_embedding, response_embeddings)[0]\n",
    "    \n",
    "    # Находим индекс наиболее подходящего ответа\n",
    "    best_index = np.argmax(similarities)\n",
    "    return df.iloc[best_index]['response']"
   ]
  },
  {
   "cell_type": "code",
   "execution_count": 4,
   "metadata": {},
   "outputs": [
    {
     "name": "stdout",
     "output_type": "stream",
     "text": [
      "Контекст: Why are you late?\n",
      "Ответ: You didn't come here to talk to me about my pee, what's going on?\n"
     ]
    }
   ],
   "source": [
    "# Пример инференса\n",
    "response_embeddings = load_embeddings(os.path.join(OUTPUT_DIR, 'response_embeddings.npy'))\n",
    "df = load_data(DATA_PATH)\n",
    "context = \"Why are you late?\"\n",
    "best_response = infer(context, response_embeddings, df, model, tokenizer)\n",
    "\n",
    "print(f\"Контекст: {context}\")\n",
    "print(f\"Ответ: {best_response}\")"
   ]
  },
  {
   "cell_type": "code",
   "execution_count": 5,
   "metadata": {},
   "outputs": [],
   "source": [
    "def validate(response_embeddings, df, model, tokenizer, test_size=0.2, batch_size=16):\n",
    "    \"\"\"Оценивает качество модели на тестовой выборке.\"\"\"\n",
    "    from sklearn.model_selection import train_test_split\n",
    "\n",
    "    # Разделяем данные на обучающую и тестовую выборки\n",
    "    train_df, test_df = train_test_split(df, test_size=test_size, random_state=42)\n",
    "\n",
    "    # Получаем эмбеддинги для тестовых данных с использованием батчей\n",
    "    test_embeddings = []\n",
    "    for i in tqdm(range(0, len(test_df), batch_size), desc=\"Создание тестовых эмбеддингов\"):\n",
    "        batch_contexts = test_df['context'][i:i + batch_size].tolist()\n",
    "        batch_embeddings = get_bert_embedding(batch_contexts, model, tokenizer)\n",
    "        test_embeddings.append(batch_embeddings)\n",
    "    test_embeddings = np.vstack(test_embeddings)\n",
    "\n",
    "    # Вычисляем косинусное сходство для тестовых данных\n",
    "    similarities = cosine_similarity(test_embeddings, response_embeddings)\n",
    "    best_indices = np.argmax(similarities, axis=1)\n",
    "\n",
    "    # Оцениваем точность\n",
    "    correct = 0\n",
    "    for i, index in enumerate(best_indices):\n",
    "        if index < len(train_df) and train_df.iloc[index]['response'] == test_df.iloc[i]['response']:\n",
    "            correct += 1\n",
    "    accuracy = correct / len(test_df)\n",
    "    print(f\"Точность модели на тестовой выборке: {accuracy:.2f}\")\n",
    "\n",
    "    # Визуализация распределения косинусного сходства\n",
    "    plt.figure(figsize=(10, 6))\n",
    "    plt.hist(similarities.flatten(), bins=50, alpha=0.7, label=\"Косинусное сходство\")\n",
    "    plt.xlabel(\"Косинусное сходство\")\n",
    "    plt.ylabel(\"Частота\")\n",
    "    plt.title(\"Распределение косинусного сходства\")\n",
    "    plt.legend()\n",
    "    plt.grid(True)\n",
    "    plt.savefig(os.path.join(OUTPUT_DIR, 'validation_histogram.png'))  # Сохраняем график\n",
    "    plt.show()\n",
    "\n",
    "    return accuracy"
   ]
  },
  {
   "cell_type": "code",
   "execution_count": 8,
   "metadata": {},
   "outputs": [
    {
     "name": "stdout",
     "output_type": "stream",
     "text": [
      "Контекст: Why are you late?\n",
      "Ответ: You didn't come here to talk to me about my pee, what's going on?\n"
     ]
    },
    {
     "name": "stderr",
     "output_type": "stream",
     "text": [
      "Создание тестовых эмбеддингов: 100%|██████████████████████████████████████████████████| 261/261 [00:23<00:00, 11.01it/s]\n"
     ]
    },
    {
     "name": "stdout",
     "output_type": "stream",
     "text": [
      "Точность модели на тестовой выборке: 0.00\n"
     ]
    },
    {
     "data": {
      "image/png": "[encoded data removed]",
      "text/plain": [
       "<Figure size 1000x600 with 1 Axes>"
      ]
     },
     "metadata": {},
     "output_type": "display_data"
    },
    {
     "data": {
      "text/plain": [
       "0.0"
      ]
     },
     "execution_count": 8,
     "metadata": {},
     "output_type": "execute_result"
    }
   ],
   "source": [
    "# Загружаем эмбеддинги и данные\n",
    "response_embeddings = load_embeddings(os.path.join(OUTPUT_DIR, 'response_embeddings.npy'))\n",
    "df = load_data(DATA_PATH)\n",
    "\n",
    "# Пример инференса\n",
    "context = \"Why are you late?\"\n",
    "best_response = infer(context, response_embeddings, df, model, tokenizer)\n",
    "print(f\"Контекст: {context}\")\n",
    "print(f\"Ответ: {best_response}\")\n",
    "\n",
    "# Валидация модели\n",
    "validate(response_embeddings, df, model, tokenizer)"
   ]
  }
 ],
 "metadata": {
  "kernelspec": {
   "display_name": "Python 3 (ipykernel)",
   "language": "python",
   "name": "python3"
  },
  "language_info": {
   "codemirror_mode": {
    "name": "ipython",
    "version": 3
   },
   "file_extension": ".py",
   "mimetype": "text/x-python",
   "name": "python",
   "nbconvert_exporter": "python",
   "pygments_lexer": "ipython3",
   "version": "3.11.8"
  }
 },
 "nbformat": 4,
 "nbformat_minor": 4
}
